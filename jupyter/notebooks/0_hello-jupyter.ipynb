{
 "cells": [
  {
   "cell_type": "markdown",
   "metadata": {},
   "source": [
    "# Hello Jupyter\n",
    "\n",
    "> Basic introduction to Jupyter Notebooks and Jupyter Lab\n",
    "\n",
    "This notebook can be run using the python3 jupyter kernel.\n",
    "\n",
    "----\n",
    "\n",
    "## Installation\n",
    "\n",
    "Jupyter requires either python2 or python3.3 or greater to be installed. \n",
    "\n",
    "The recommened installation method is with the [Anaconda Distrubution](https://www.anaconda.com/) which comes with Jupyter and Jupyterlab preinstalled.\n",
    "\n",
    "Jupyter can also be installed with pip using either:\n",
    "\n",
    "**Python3 (recommened)**\n",
    "```cmd\n",
    "python3 -m pip install --upgrade pip\n",
    "python3 -m pip install jupyter\n",
    "```\n",
    "\n",
    "**Python2**\n",
    "```cmd\n",
    "python -m pip install --upgrade pip\n",
    "python -m pip install jupyter\n",
    "```\n",
    "\n",
    "## Running\n",
    "```cmd\n",
    "jupyter notebook // run jupyter notebook\n",
    "jupyter lab      // run jupyter lab\n",
    "```\n",
    "\n",
    "----\n",
    "\n",
    "The first thing a beginner writes in a new programming language is traditionally called \"Hello World\"\n",
    "\n",
    "In the example below, try changing 'Hello Jupyter' to something else, then hit `ALT+ENTER` or the play button above.\n"
   ]
  },
  {
   "cell_type": "code",
   "execution_count": 6,
   "metadata": {},
   "outputs": [
    {
     "name": "stdout",
     "output_type": "stream",
     "text": [
      "Hello Jupyter!\n"
     ]
    }
   ],
   "source": [
    "print('Hello Jupyter!') # print hello message"
   ]
  },
  {
   "cell_type": "code",
   "execution_count": 4,
   "metadata": {},
   "outputs": [
    {
     "name": "stdout",
     "output_type": "stream",
     "text": [
      "Hi!\n",
      "Hi!\n",
      "Hi!\n",
      "Hi!\n",
      "Hi!\n"
     ]
    }
   ],
   "source": [
    "for i in range(0, 5): # print hello message five times\n",
    "    print(\"Hi!\")"
   ]
  },
  {
   "cell_type": "markdown",
   "metadata": {},
   "source": [
    "\n",
    "----\n"
   ]
  }
 ],
 "metadata": {
  "kernelspec": {
   "display_name": "Python 3",
   "language": "python",
   "name": "python3"
  },
  "language_info": {
   "codemirror_mode": {
    "name": "ipython",
    "version": 3
   },
   "file_extension": ".py",
   "mimetype": "text/x-python",
   "name": "python",
   "nbconvert_exporter": "python",
   "pygments_lexer": "ipython3",
   "version": "3.7.2"
  }
 },
 "nbformat": 4,
 "nbformat_minor": 2
}
