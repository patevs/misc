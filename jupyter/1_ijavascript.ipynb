{
 "cells": [
  {
   "cell_type": "markdown",
   "metadata": {},
   "source": [
    "# **IJavascript Kernel**\n",
    "\n",
    "> Introduction to [IJavascript](http://n-riesco.github.io/ijavascript/) kernel and its implementation within Jupyter notebooks\n",
    "\n",
    "ijavascript repo: [n-riesco/ijavascript](https://github.com/n-riesco/ijavascript)\n",
    "jp-babel repo: [n-riesco/jp-babel](https://github.com/n-riesco/jp-babel)\n",
    "\n",
    "----"
   ]
  },
  {
   "cell_type": "code",
   "execution_count": 2,
   "metadata": {},
   "outputs": [
    {
     "data": {
      "text/plain": [
       "'Hello, Jupyter!'"
      ]
     },
     "execution_count": 2,
     "metadata": {},
     "output_type": "execute_result"
    }
   ],
   "source": [
    "var msg = [\"Hello\", \"Jupyter!\"].join(\", \");\n",
    "msg // send `msg` variable to stdout"
   ]
  },
  {
   "cell_type": "code",
   "execution_count": 16,
   "metadata": {},
   "outputs": [
    {
     "name": "stdout",
     "output_type": "stream",
     "text": [
      "Hello, Jupyter!\n"
     ]
    }
   ],
   "source": [
    "console.log(msg); // send `msg` variable as a string to stdout"
   ]
  },
  {
   "cell_type": "code",
   "execution_count": 17,
   "metadata": {},
   "outputs": [
    {
     "name": "stderr",
     "output_type": "stream",
     "text": [
      "Hello, Jupyter!\n"
     ]
    }
   ],
   "source": [
    "console.error(msg); // print an error message to stderr"
   ]
  },
  {
   "cell_type": "code",
   "execution_count": 7,
   "metadata": {},
   "outputs": [
    {
     "ename": "Error",
     "evalue": "error!",
     "execution_count": 7,
     "output_type": "error",
     "traceback": [
      "evalmachine.<anonymous>:1",
      "throw new Error(\"error!\"); // throw an error/exception",
      "^",
      "",
      "Error: error!",
      "    at evalmachine.<anonymous>:1:7",
      "    at ContextifyScript.Script.runInThisContext (vm.js:50:33)",
      "    at Object.runInThisContext (vm.js:139:38)",
      "    at run ([eval]:1002:15)",
      "    at onRunRequest ([eval]:829:18)",
      "    at onMessage ([eval]:789:13)",
      "    at emitTwo (events.js:126:13)",
      "    at process.emit (events.js:214:7)",
      "    at emit (internal/child_process.js:762:12)",
      "    at _combinedTickCallback (internal/process/next_tick.js:142:11)"
     ]
    }
   ],
   "source": [
    "throw new Error(\"error!\"); // throw an error/exception to stderr"
   ]
  },
  {
   "cell_type": "markdown",
   "metadata": {},
   "source": [
    "\n",
    "----\n",
    "\n",
    "## **Asynchronous Output**\n",
    "\n",
    "`Javascript` and `Node.JS` make heavy use of *asynchronous execution*. `IJavascript` lets you exercise these asynchronous capabilities, by both:\n",
    "\n",
    "* updating stdout and stderr asynchronously, or\n",
    "* providing an execution result asynchronously.\n",
    "\n",
    "### **Synchronous vs. Asynchronous Code**\n",
    "\n",
    "The term `asynchronous code` is used to refer to code that doesn't run immediately (code within callback functions). \n",
    "\n",
    "**Asynchronous code:**"
   ]
  },
  {
   "cell_type": "code",
   "execution_count": 9,
   "metadata": {},
   "outputs": [
    {
     "name": "stdout",
     "output_type": "stream",
     "text": [
      "Asynchronous code execution example\n"
     ]
    }
   ],
   "source": [
    "function sayHello() {\n",
    "    var msg  = \"Asynchronous code execution example\"\n",
    "    console.log(msg);\n",
    "}\n",
    "var t = setTimeout(sayHello, 1500); // wait 1.5 seconds before calling `sayHello` function"
   ]
  },
  {
   "cell_type": "markdown",
   "metadata": {},
   "source": [
    "**Synchronous code:**"
   ]
  },
  {
   "cell_type": "code",
   "execution_count": 10,
   "metadata": {},
   "outputs": [
    {
     "name": "stdout",
     "output_type": "stream",
     "text": [
      "Synchronous code execution example\n"
     ]
    }
   ],
   "source": [
    "function sayHello() {\n",
    "    var msg = \"Synchronous code execution example\"\n",
    "    console.log(msg);\n",
    "}\n",
    "sayHello(); // synchronous (instantly) call `sayHello` function"
   ]
  },
  {
   "cell_type": "markdown",
   "metadata": {},
   "source": [
    "\n",
    "----\n"
   ]
  }
 ],
 "metadata": {
  "kernelspec": {
   "display_name": "Javascript (Node.js)",
   "language": "javascript",
   "name": "javascript"
  },
  "language_info": {
   "file_extension": ".js",
   "mimetype": "application/javascript",
   "name": "javascript",
   "version": "8.15.0"
  }
 },
 "nbformat": 4,
 "nbformat_minor": 2
}
